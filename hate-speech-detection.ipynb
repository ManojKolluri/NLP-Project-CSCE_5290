{
 "cells": [
  {
   "cell_type": "markdown",
   "id": "ec089bc8",
   "metadata": {
    "_cell_guid": "b1076dfc-b9ad-4769-8c92-a6c4dae69d19",
    "_uuid": "8f2839f25d086af736a60e9eeb907d3b93b6e0e5",
    "execution": {
     "iopub.execute_input": "2022-06-16T02:58:48.161168Z",
     "iopub.status.busy": "2022-06-16T02:58:48.160647Z",
     "iopub.status.idle": "2022-06-16T02:58:48.175625Z",
     "shell.execute_reply": "2022-06-16T02:58:48.174605Z",
     "shell.execute_reply.started": "2022-06-16T02:58:48.161129Z"
    },
    "papermill": {
     "duration": 0.006758,
     "end_time": "2022-06-16T03:15:32.927359",
     "exception": false,
     "start_time": "2022-06-16T03:15:32.920601",
     "status": "completed"
    },
    "tags": []
   },
   "source": [
    "# Finding the path of dataset "
   ]
  },
  {
   "cell_type": "code",
   "execution_count": 1,
   "id": "0309333d",
   "metadata": {
    "execution": {
     "iopub.execute_input": "2022-06-16T03:15:32.941800Z",
     "iopub.status.busy": "2022-06-16T03:15:32.941014Z",
     "iopub.status.idle": "2022-06-16T03:15:32.958276Z",
     "shell.execute_reply": "2022-06-16T03:15:32.957561Z"
    },
    "papermill": {
     "duration": 0.027825,
     "end_time": "2022-06-16T03:15:32.961097",
     "exception": false,
     "start_time": "2022-06-16T03:15:32.933272",
     "status": "completed"
    },
    "tags": []
   },
   "outputs": [
    {
     "name": "stdout",
     "output_type": "stream",
     "text": [
      "/kaggle/input/hate-speech-and-offensive-language-dataset/labeled_data.csv\n"
     ]
    }
   ],
   "source": [
    "import os\n",
    "for dirname, _, filenames in os.walk('/kaggle/input'):\n",
    "    for filename in filenames:\n",
    "        print(os.path.join(dirname, filename))"
   ]
  },
  {
   "cell_type": "markdown",
   "id": "0245b727",
   "metadata": {
    "papermill": {
     "duration": 0.005747,
     "end_time": "2022-06-16T03:15:32.973498",
     "exception": false,
     "start_time": "2022-06-16T03:15:32.967751",
     "status": "completed"
    },
    "tags": []
   },
   "source": [
    "# Imorting Libraries"
   ]
  },
  {
   "cell_type": "code",
   "execution_count": 2,
   "id": "c7f6935d",
   "metadata": {
    "execution": {
     "iopub.execute_input": "2022-06-16T03:15:32.986733Z",
     "iopub.status.busy": "2022-06-16T03:15:32.986098Z",
     "iopub.status.idle": "2022-06-16T03:15:39.302919Z",
     "shell.execute_reply": "2022-06-16T03:15:39.302130Z"
    },
    "papermill": {
     "duration": 6.325599,
     "end_time": "2022-06-16T03:15:39.304999",
     "exception": false,
     "start_time": "2022-06-16T03:15:32.979400",
     "status": "completed"
    },
    "tags": []
   },
   "outputs": [],
   "source": [
    "import os\n",
    "import numpy as np \n",
    "import pandas as pd \n",
    "from sklearn.preprocessing import LabelEncoder\n",
    "import nltk\n",
    "import re\n",
    "from nltk.stem import PorterStemmer\n",
    "from nltk.corpus import stopwords\n",
    "from sklearn.model_selection import train_test_split\n",
    "from sklearn.feature_extraction.text import CountVectorizer\n",
    "from sklearn.naive_bayes import MultinomialNB\n",
    "from sklearn.metrics import accuracy_score\n",
    "from sklearn.metrics import confusion_matrix\n",
    "import matplotlib.pyplot as plt\n",
    "import seaborn as sns\n",
    "from nltk.stem import WordNetLemmatizer\n",
    "import itertools\n",
    "from wordcloud import WordCloud\n",
    "from sklearn.ensemble import RandomForestClassifier\n",
    "from sklearn import tree\n",
    "from sklearn.ensemble import AdaBoostClassifier\n",
    "from sklearn.neighbors import KNeighborsClassifier\n",
    "from sklearn.svm import SVC\n",
    "from keras.models import Sequential,Model\n",
    "from keras.layers import Dense,LSTM, SpatialDropout1D, Embedding\n",
    "from keras.utils.np_utils import to_categorical"
   ]
  },
  {
   "cell_type": "markdown",
   "id": "075e3d24",
   "metadata": {
    "papermill": {
     "duration": 0.005985,
     "end_time": "2022-06-16T03:15:39.317437",
     "exception": false,
     "start_time": "2022-06-16T03:15:39.311452",
     "status": "completed"
    },
    "tags": []
   },
   "source": [
    "# Reading the dataset"
   ]
  },
  {
   "cell_type": "code",
   "execution_count": 3,
   "id": "16b36349",
   "metadata": {
    "execution": {
     "iopub.execute_input": "2022-06-16T03:15:39.330932Z",
     "iopub.status.busy": "2022-06-16T03:15:39.330109Z",
     "iopub.status.idle": "2022-06-16T03:15:39.404624Z",
     "shell.execute_reply": "2022-06-16T03:15:39.403832Z"
    },
    "papermill": {
     "duration": 0.083252,
     "end_time": "2022-06-16T03:15:39.406674",
     "exception": false,
     "start_time": "2022-06-16T03:15:39.323422",
     "status": "completed"
    },
    "tags": []
   },
   "outputs": [],
   "source": [
    "text = []\n",
    "clas = []\n",
    "df = pd.read_csv('/kaggle/input/hate-speech-and-offensive-language-dataset/labeled_data.csv')\n",
    "text = df['tweet'].tolist()\n",
    "clas = df['class'].tolist()"
   ]
  },
  {
   "cell_type": "markdown",
   "id": "8a405b90",
   "metadata": {
    "papermill": {
     "duration": 0.006409,
     "end_time": "2022-06-16T03:15:39.419224",
     "exception": false,
     "start_time": "2022-06-16T03:15:39.412815",
     "status": "completed"
    },
    "tags": []
   },
   "source": [
    "# creating a new dataframe for easy text processing"
   ]
  },
  {
   "cell_type": "code",
   "execution_count": 4,
   "id": "b812f38f",
   "metadata": {
    "execution": {
     "iopub.execute_input": "2022-06-16T03:15:39.432681Z",
     "iopub.status.busy": "2022-06-16T03:15:39.432070Z",
     "iopub.status.idle": "2022-06-16T03:15:39.448801Z",
     "shell.execute_reply": "2022-06-16T03:15:39.448135Z"
    },
    "papermill": {
     "duration": 0.025147,
     "end_time": "2022-06-16T03:15:39.450492",
     "exception": false,
     "start_time": "2022-06-16T03:15:39.425345",
     "status": "completed"
    },
    "tags": []
   },
   "outputs": [],
   "source": [
    "df = pd.DataFrame({'tweet': text, 'class': clas})"
   ]
  },
  {
   "cell_type": "markdown",
   "id": "56b0b4e3",
   "metadata": {
    "papermill": {
     "duration": 0.006,
     "end_time": "2022-06-16T03:15:39.462659",
     "exception": false,
     "start_time": "2022-06-16T03:15:39.456659",
     "status": "completed"
    },
    "tags": []
   },
   "source": [
    "# Finding if there is any missing data"
   ]
  },
  {
   "cell_type": "code",
   "execution_count": 5,
   "id": "167be40d",
   "metadata": {
    "execution": {
     "iopub.execute_input": "2022-06-16T03:15:39.475840Z",
     "iopub.status.busy": "2022-06-16T03:15:39.475434Z",
     "iopub.status.idle": "2022-06-16T03:15:39.485184Z",
     "shell.execute_reply": "2022-06-16T03:15:39.484063Z"
    },
    "papermill": {
     "duration": 0.018916,
     "end_time": "2022-06-16T03:15:39.487333",
     "exception": false,
     "start_time": "2022-06-16T03:15:39.468417",
     "status": "completed"
    },
    "tags": []
   },
   "outputs": [
    {
     "name": "stdout",
     "output_type": "stream",
     "text": [
      "tweet    0\n",
      "class    0\n",
      "dtype: int64\n"
     ]
    }
   ],
   "source": [
    "print(df.isnull().sum())"
   ]
  },
  {
   "cell_type": "markdown",
   "id": "353c3cf1",
   "metadata": {
    "papermill": {
     "duration": 0.005887,
     "end_time": "2022-06-16T03:15:39.499888",
     "exception": false,
     "start_time": "2022-06-16T03:15:39.494001",
     "status": "completed"
    },
    "tags": []
   },
   "source": [
    "# Converting the data into lower case."
   ]
  },
  {
   "cell_type": "code",
   "execution_count": 6,
   "id": "f6392a71",
   "metadata": {
    "execution": {
     "iopub.execute_input": "2022-06-16T03:15:39.513111Z",
     "iopub.status.busy": "2022-06-16T03:15:39.512826Z",
     "iopub.status.idle": "2022-06-16T03:15:39.528091Z",
     "shell.execute_reply": "2022-06-16T03:15:39.527295Z"
    },
    "papermill": {
     "duration": 0.023595,
     "end_time": "2022-06-16T03:15:39.529862",
     "exception": false,
     "start_time": "2022-06-16T03:15:39.506267",
     "status": "completed"
    },
    "tags": []
   },
   "outputs": [],
   "source": [
    "df['tweet'] = df['tweet'].apply(lambda x:x.lower())"
   ]
  },
  {
   "cell_type": "markdown",
   "id": "c9adee41",
   "metadata": {
    "papermill": {
     "duration": 0.005785,
     "end_time": "2022-06-16T03:15:39.541692",
     "exception": false,
     "start_time": "2022-06-16T03:15:39.535907",
     "status": "completed"
    },
    "tags": []
   },
   "source": [
    "# removing punctuations"
   ]
  },
  {
   "cell_type": "code",
   "execution_count": 7,
   "id": "e6520ee3",
   "metadata": {
    "execution": {
     "iopub.execute_input": "2022-06-16T03:15:39.555077Z",
     "iopub.status.busy": "2022-06-16T03:15:39.554446Z",
     "iopub.status.idle": "2022-06-16T03:15:39.664927Z",
     "shell.execute_reply": "2022-06-16T03:15:39.663120Z"
    },
    "papermill": {
     "duration": 0.119652,
     "end_time": "2022-06-16T03:15:39.667309",
     "exception": false,
     "start_time": "2022-06-16T03:15:39.547657",
     "status": "completed"
    },
    "tags": []
   },
   "outputs": [
    {
     "name": "stderr",
     "output_type": "stream",
     "text": [
      "/opt/conda/lib/python3.7/site-packages/ipykernel_launcher.py:5: FutureWarning: The default value of regex will change from True to False in a future version. In addition, single character regular expressions will *not* be treated as literal strings when regex=True.\n",
      "  \"\"\"\n"
     ]
    }
   ],
   "source": [
    "punctuation_signs = list(\"?:!.,;\")\n",
    "df['tweet'] = df['tweet']\n",
    "\n",
    "for punct_sign in punctuation_signs:   \n",
    "    df['tweet'] = df['tweet'].str.replace(punct_sign, '')"
   ]
  },
  {
   "cell_type": "markdown",
   "id": "197a5793",
   "metadata": {
    "papermill": {
     "duration": 0.005925,
     "end_time": "2022-06-16T03:15:39.679932",
     "exception": false,
     "start_time": "2022-06-16T03:15:39.674007",
     "status": "completed"
    },
    "tags": []
   },
   "source": [
    "# Removing '\\n' and '\\t', extra spaces, quoting text, and progressive pronouns."
   ]
  },
  {
   "cell_type": "code",
   "execution_count": 8,
   "id": "86974cb9",
   "metadata": {
    "execution": {
     "iopub.execute_input": "2022-06-16T03:15:39.692871Z",
     "iopub.status.busy": "2022-06-16T03:15:39.692563Z",
     "iopub.status.idle": "2022-06-16T03:15:39.778946Z",
     "shell.execute_reply": "2022-06-16T03:15:39.777909Z"
    },
    "papermill": {
     "duration": 0.095024,
     "end_time": "2022-06-16T03:15:39.780872",
     "exception": false,
     "start_time": "2022-06-16T03:15:39.685848",
     "status": "completed"
    },
    "tags": []
   },
   "outputs": [],
   "source": [
    "df['tweet'] = df['tweet'].apply(lambda x: x.replace('\\n', ' '))\n",
    "df['tweet'] = df['tweet'].apply(lambda x: x.replace('\\t', ' '))\n",
    "df['tweet'] = df['tweet'].str.replace(\"    \", \" \")\n",
    "df['tweet'] = df['tweet'].str.replace('\"', '')\n",
    "df['tweet'] = df['tweet'].str.replace(\"'s\", \"\")"
   ]
  },
  {
   "cell_type": "markdown",
   "id": "f7f50ab5",
   "metadata": {
    "papermill": {
     "duration": 0.006281,
     "end_time": "2022-06-16T03:15:39.793980",
     "exception": false,
     "start_time": "2022-06-16T03:15:39.787699",
     "status": "completed"
    },
    "tags": []
   },
   "source": [
    "# removing stop-words"
   ]
  },
  {
   "cell_type": "code",
   "execution_count": 9,
   "id": "6aa9114d",
   "metadata": {
    "execution": {
     "iopub.execute_input": "2022-06-16T03:15:39.807867Z",
     "iopub.status.busy": "2022-06-16T03:15:39.807135Z",
     "iopub.status.idle": "2022-06-16T03:15:53.691143Z",
     "shell.execute_reply": "2022-06-16T03:15:53.690343Z"
    },
    "papermill": {
     "duration": 13.892962,
     "end_time": "2022-06-16T03:15:53.693181",
     "exception": false,
     "start_time": "2022-06-16T03:15:39.800219",
     "status": "completed"
    },
    "tags": []
   },
   "outputs": [
    {
     "name": "stdout",
     "output_type": "stream",
     "text": [
      "[nltk_data] Downloading package stopwords to /usr/share/nltk_data...\n",
      "[nltk_data]   Package stopwords is already up-to-date!\n"
     ]
    },
    {
     "name": "stderr",
     "output_type": "stream",
     "text": [
      "/opt/conda/lib/python3.7/site-packages/ipykernel_launcher.py:5: FutureWarning: The default value of regex will change from True to False in a future version.\n",
      "  \"\"\"\n"
     ]
    }
   ],
   "source": [
    "nltk.download('stopwords')\n",
    "stop_words = list(stopwords.words('english'))\n",
    "for stop_word in stop_words:\n",
    "    regex_stopword = r\"\\b\" + stop_word + r\"\\b\"\n",
    "    df['tweet'] = df['tweet'].str.replace(regex_stopword, '')"
   ]
  },
  {
   "cell_type": "markdown",
   "id": "aa569511",
   "metadata": {
    "papermill": {
     "duration": 0.005925,
     "end_time": "2022-06-16T03:15:53.705800",
     "exception": false,
     "start_time": "2022-06-16T03:15:53.699875",
     "status": "completed"
    },
    "tags": []
   },
   "source": [
    "# Using Bag of Words approach for final data Preparation.¶"
   ]
  },
  {
   "cell_type": "code",
   "execution_count": 10,
   "id": "c9cb9413",
   "metadata": {
    "execution": {
     "iopub.execute_input": "2022-06-16T03:15:53.719107Z",
     "iopub.status.busy": "2022-06-16T03:15:53.718822Z",
     "iopub.status.idle": "2022-06-16T03:15:54.286061Z",
     "shell.execute_reply": "2022-06-16T03:15:54.285264Z"
    },
    "papermill": {
     "duration": 0.576326,
     "end_time": "2022-06-16T03:15:54.288076",
     "exception": false,
     "start_time": "2022-06-16T03:15:53.711750",
     "status": "completed"
    },
    "tags": []
   },
   "outputs": [],
   "source": [
    "cv = CountVectorizer(max_features = 2500)\n",
    "X = cv.fit_transform(df['tweet']).toarray()\n",
    "y = df['class']"
   ]
  },
  {
   "cell_type": "markdown",
   "id": "6418f064",
   "metadata": {
    "papermill": {
     "duration": 0.006126,
     "end_time": "2022-06-16T03:15:54.300834",
     "exception": false,
     "start_time": "2022-06-16T03:15:54.294708",
     "status": "completed"
    },
    "tags": []
   },
   "source": [
    "# Splitting the Data using Stratified split"
   ]
  },
  {
   "cell_type": "code",
   "execution_count": 11,
   "id": "f20181c3",
   "metadata": {
    "execution": {
     "iopub.execute_input": "2022-06-16T03:15:54.314490Z",
     "iopub.status.busy": "2022-06-16T03:15:54.314107Z",
     "iopub.status.idle": "2022-06-16T03:15:54.513017Z",
     "shell.execute_reply": "2022-06-16T03:15:54.512210Z"
    },
    "papermill": {
     "duration": 0.208457,
     "end_time": "2022-06-16T03:15:54.515357",
     "exception": false,
     "start_time": "2022-06-16T03:15:54.306900",
     "status": "completed"
    },
    "tags": []
   },
   "outputs": [],
   "source": [
    "X_train, X_test, y_train, y_test = train_test_split(X, y, test_size = 0.3, stratify=y, random_state = 42)"
   ]
  },
  {
   "cell_type": "code",
   "execution_count": 12,
   "id": "e718e198",
   "metadata": {
    "execution": {
     "iopub.execute_input": "2022-06-16T03:15:54.529616Z",
     "iopub.status.busy": "2022-06-16T03:15:54.529273Z",
     "iopub.status.idle": "2022-06-16T03:15:54.538819Z",
     "shell.execute_reply": "2022-06-16T03:15:54.538091Z"
    },
    "papermill": {
     "duration": 0.018529,
     "end_time": "2022-06-16T03:15:54.540561",
     "exception": false,
     "start_time": "2022-06-16T03:15:54.522032",
     "status": "completed"
    },
    "tags": []
   },
   "outputs": [],
   "source": [
    "def plot_confusion_matrix(cm, classes,\n",
    "                          normalize=False,\n",
    "                          title='Confusion matrix',\n",
    "                              cmap=plt.cm.Blues):\n",
    "\n",
    "    plt.imshow(cm, interpolation='nearest', cmap=cmap)\n",
    "    plt.title(title)\n",
    "    plt.colorbar()\n",
    "    tick_marks = np.arange(len(classes))\n",
    "    plt.xticks(tick_marks, classes, rotation=45)\n",
    "    plt.yticks(tick_marks, classes)\n",
    "\n",
    "    if normalize:\n",
    "        cm = cm.astype('float') / cm.sum(axis=1)[:, np.newaxis]\n",
    "\n",
    "    thresh = cm.max() / 2.\n",
    "    for i, j in itertools.product(range(cm.shape[0]), range(cm.shape[1])):\n",
    "        plt.text(j, i, cm[i, j],\n",
    "                 horizontalalignment=\"center\",\n",
    "                 color=\"white\" if cm[i, j] > thresh else \"black\")\n",
    "\n",
    "    plt.tight_layout()\n",
    "    plt.ylabel('True label')\n",
    "    plt.xlabel('Predicted label')"
   ]
  },
  {
   "cell_type": "markdown",
   "id": "081560b6",
   "metadata": {
    "papermill": {
     "duration": 0.005843,
     "end_time": "2022-06-16T03:15:54.552390",
     "exception": false,
     "start_time": "2022-06-16T03:15:54.546547",
     "status": "completed"
    },
    "tags": []
   },
   "source": [
    "# Using Random Forest Classifier as the Model and printing evaluating it using confusion matrix"
   ]
  },
  {
   "cell_type": "code",
   "execution_count": 13,
   "id": "c69c3587",
   "metadata": {
    "execution": {
     "iopub.execute_input": "2022-06-16T03:15:54.566068Z",
     "iopub.status.busy": "2022-06-16T03:15:54.565795Z",
     "iopub.status.idle": "2022-06-16T03:15:58.429071Z",
     "shell.execute_reply": "2022-06-16T03:15:58.428256Z"
    },
    "papermill": {
     "duration": 3.872389,
     "end_time": "2022-06-16T03:15:58.431095",
     "exception": false,
     "start_time": "2022-06-16T03:15:54.558706",
     "status": "completed"
    },
    "tags": []
   },
   "outputs": [
    {
     "name": "stdout",
     "output_type": "stream",
     "text": [
      "accuracy is:  0.8895763281775386\n"
     ]
    },
    {
     "data": {
      "image/png": "[encoded data removed]",
      "text/plain": [
       "<Figure size 432x288 with 2 Axes>"
      ]
     },
     "metadata": {
      "needs_background": "light"
     },
     "output_type": "display_data"
    }
   ],
   "source": [
    "clf = RandomForestClassifier(n_estimators=10)\n",
    "clf = clf.fit(X_train, y_train)\n",
    "y_pred = clf.predict(X_test)\n",
    "accuracy = accuracy_score(y_test, y_pred)\n",
    "print(\"accuracy is: \",accuracy)\n",
    "CM = confusion_matrix(y_test, y_pred)\n",
    "plot_confusion_matrix(CM, classes = range(3))"
   ]
  },
  {
   "cell_type": "markdown",
   "id": "c6150501",
   "metadata": {
    "papermill": {
     "duration": 0.006772,
     "end_time": "2022-06-16T03:15:58.445710",
     "exception": false,
     "start_time": "2022-06-16T03:15:58.438938",
     "status": "completed"
    },
    "tags": []
   },
   "source": [
    "# Using Decision tree as the Model and printing evaluating it using confusion matrix"
   ]
  },
  {
   "cell_type": "code",
   "execution_count": 14,
   "id": "688a8068",
   "metadata": {
    "execution": {
     "iopub.execute_input": "2022-06-16T03:15:58.461501Z",
     "iopub.status.busy": "2022-06-16T03:15:58.460852Z",
     "iopub.status.idle": "2022-06-16T03:16:15.112416Z",
     "shell.execute_reply": "2022-06-16T03:16:15.111657Z"
    },
    "papermill": {
     "duration": 16.66158,
     "end_time": "2022-06-16T03:16:15.114146",
     "exception": false,
     "start_time": "2022-06-16T03:15:58.452566",
     "status": "completed"
    },
    "tags": []
   },
   "outputs": [
    {
     "name": "stdout",
     "output_type": "stream",
     "text": [
      "accuracy is:  0.8715534633490248\n"
     ]
    },
    {
     "data": {
      "image/png": "[encoded data removed]",
      "text/plain": [
       "<Figure size 432x288 with 2 Axes>"
      ]
     },
     "metadata": {
      "needs_background": "light"
     },
     "output_type": "display_data"
    }
   ],
   "source": [
    "clf = tree.DecisionTreeClassifier()\n",
    "clf = clf.fit(X_train, y_train)\n",
    "y_pred = clf.predict(X_test)\n",
    "accuracy = accuracy_score(y_test, y_pred)\n",
    "print(\"accuracy is: \",accuracy)\n",
    "CM = confusion_matrix(y_test, y_pred)\n",
    "plot_confusion_matrix(CM, classes = range(3))"
   ]
  },
  {
   "cell_type": "markdown",
   "id": "26ef675d",
   "metadata": {
    "papermill": {
     "duration": 0.006672,
     "end_time": "2022-06-16T03:16:15.127750",
     "exception": false,
     "start_time": "2022-06-16T03:16:15.121078",
     "status": "completed"
    },
    "tags": []
   },
   "source": [
    "# Using AdaBoost Classifier as the Model and printing evaluating it using confusion matrix"
   ]
  },
  {
   "cell_type": "code",
   "execution_count": 15,
   "id": "3311fb22",
   "metadata": {
    "execution": {
     "iopub.execute_input": "2022-06-16T03:16:15.142552Z",
     "iopub.status.busy": "2022-06-16T03:16:15.142128Z",
     "iopub.status.idle": "2022-06-16T03:17:32.731332Z",
     "shell.execute_reply": "2022-06-16T03:17:32.730429Z"
    },
    "papermill": {
     "duration": 77.598946,
     "end_time": "2022-06-16T03:17:32.733371",
     "exception": false,
     "start_time": "2022-06-16T03:16:15.134425",
     "status": "completed"
    },
    "tags": []
   },
   "outputs": [
    {
     "name": "stdout",
     "output_type": "stream",
     "text": [
      "accuracy is:  0.8976462676529926\n"
     ]
    },
    {
     "data": {
      "image/png": "[encoded data removed]",
      "text/plain": [
       "<Figure size 432x288 with 2 Axes>"
      ]
     },
     "metadata": {
      "needs_background": "light"
     },
     "output_type": "display_data"
    }
   ],
   "source": [
    "clf = AdaBoostClassifier(n_estimators=100)\n",
    "clf = clf.fit(X_train, y_train)\n",
    "y_pred = clf.predict(X_test)\n",
    "accuracy = accuracy_score(y_test, y_pred)\n",
    "print(\"accuracy is: \",accuracy)\n",
    "CM = confusion_matrix(y_test, y_pred)\n",
    "plot_confusion_matrix(CM, classes = range(3))"
   ]
  }
 ],
 "metadata": {
  "kernelspec": {
   "display_name": "Python 3",
   "language": "python",
   "name": "python3"
  },
  "language_info": {
   "codemirror_mode": {
    "name": "ipython",
    "version": 3
   },
   "file_extension": ".py",
   "mimetype": "text/x-python",
   "name": "python",
   "nbconvert_exporter": "python",
   "pygments_lexer": "ipython3",
   "version": "3.7.12"
  },
  "papermill": {
   "default_parameters": {},
   "duration": 130.270938,
   "end_time": "2022-06-16T03:17:35.521833",
   "environment_variables": {},
   "exception": null,
   "input_path": "__notebook__.ipynb",
   "output_path": "__notebook__.ipynb",
   "parameters": {},
   "start_time": "2022-06-16T03:15:25.250895",
   "version": "2.3.4"
  }
 },
 "nbformat": 4,
 "nbformat_minor": 5
}
